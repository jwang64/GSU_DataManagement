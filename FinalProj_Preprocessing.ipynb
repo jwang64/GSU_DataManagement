{
 "cells": [
  {
   "cell_type": "code",
   "execution_count": 227,
   "metadata": {},
   "outputs": [],
   "source": [
    "import pandas as pd"
   ]
  },
  {
   "cell_type": "code",
   "execution_count": 228,
   "metadata": {},
   "outputs": [],
   "source": [
    "scrape = pd.read_excel('transcript_scrape.xlsx')"
   ]
  },
  {
   "cell_type": "code",
   "execution_count": 229,
   "metadata": {},
   "outputs": [],
   "source": [
    "scrape.drop('Unnamed: 0',axis=1,inplace=True)"
   ]
  },
  {
   "cell_type": "code",
   "execution_count": 230,
   "metadata": {},
   "outputs": [],
   "source": [
    "# Trimming Company Name\n",
    "scrape['company']= scrape['company'].str.split('(', expand = True)"
   ]
  },
  {
   "cell_type": "code",
   "execution_count": 231,
   "metadata": {},
   "outputs": [],
   "source": [
    "# Trimming call time to remove time zone, data is already in military time\n",
    "scrape['call_time']= scrape['call_time'].str[:5]"
   ]
  },
  {
   "cell_type": "code",
   "execution_count": 232,
   "metadata": {},
   "outputs": [],
   "source": [
    "temp_participant_df = scrape[['ticker','company','company_participant_list','noncompany_participant_list','company_participant_type','noncompany_participant_organization']]"
   ]
  },
  {
   "cell_type": "code",
   "execution_count": 233,
   "metadata": {},
   "outputs": [],
   "source": [
    "participant_df = pd.DataFrame(columns=['participant','participant_type','company','ticker'])"
   ]
  },
  {
   "cell_type": "code",
   "execution_count": 234,
   "metadata": {},
   "outputs": [],
   "source": [
    "drop_list = [20,32,46,48,52,54,60,74,84,92]"
   ]
  },
  {
   "cell_type": "code",
   "execution_count": 235,
   "metadata": {},
   "outputs": [],
   "source": [
    "company_participant_index = 0"
   ]
  },
  {
   "cell_type": "code",
   "execution_count": 236,
   "metadata": {},
   "outputs": [],
   "source": [
    "while company_participant_index < len(temp_participant_df['company_participant_list']):\n",
    "    if(company_participant_index not in drop_list):\n",
    "        split_company_participants = temp_participant_df['company_participant_list'][company_participant_index].split('.+.')\n",
    "        split_company_titles = temp_participant_df['company_participant_type'][company_participant_index].split('.+.')\n",
    "        participant_index = 0\n",
    "        while participant_index < len(split_company_participants):\n",
    "            participant = split_company_participants[participant_index]\n",
    "            participant_title = split_company_titles[participant_index]\n",
    "            participant_df_insert = [participant,participant_title,temp_participant_df['company'][company_participant_index],temp_participant_df['ticker'][company_participant_index]]\n",
    "            participant_df.loc[len(participant_df)] = participant_df_insert\n",
    "            participant_index = participant_index + 1\n",
    "    company_participant_index = company_participant_index + 1"
   ]
  },
  {
   "cell_type": "code",
   "execution_count": 237,
   "metadata": {},
   "outputs": [],
   "source": [
    "drop_list_noncompany = [4,13,25,28,32,46,47,48,49,50,52,53,54,60,70,74,76,84,87,92]"
   ]
  },
  {
   "cell_type": "code",
   "execution_count": 238,
   "metadata": {},
   "outputs": [],
   "source": [
    "noncompany_participant_index = 0\n",
    "while noncompany_participant_index < len(temp_participant_df['noncompany_participant_list']):\n",
    "    if(noncompany_participant_index not in drop_list_noncompany):\n",
    "        split_noncompany_participants = temp_participant_df['noncompany_participant_list'][noncompany_participant_index].split('.+.')\n",
    "        split_noncompany_titles = temp_participant_df['noncompany_participant_organization'][noncompany_participant_index].split('.+.')\n",
    "        participant_index = 0\n",
    "        while participant_index < len(split_noncompany_participants):\n",
    "            participant = split_noncompany_participants[participant_index]\n",
    "            participant_organization = split_noncompany_titles[participant_index]\n",
    "            participant_df_insert = [participant,'',participant_organization,temp_participant_df['ticker'][noncompany_participant_index]]\n",
    "            participant_df.loc[len(participant_df)] = participant_df_insert\n",
    "            participant_index = participant_index + 1\n",
    "    noncompany_participant_index = noncompany_participant_index + 1"
   ]
  },
  {
   "cell_type": "code",
   "execution_count": 239,
   "metadata": {},
   "outputs": [],
   "source": [
    "participant_df['participant_type'] = participant_df.apply(lambda x: x['participant_type'].replace('</p>',''),axis=1)"
   ]
  },
  {
   "cell_type": "code",
   "execution_count": 240,
   "metadata": {},
   "outputs": [],
   "source": [
    "participant_df.to_excel('participant_file.xlsx')"
   ]
  },
  {
   "cell_type": "code",
   "execution_count": 241,
   "metadata": {},
   "outputs": [],
   "source": [
    "scrape.to_excel('transcript_scrape_updated.xlsx')"
   ]
  },
  {
   "cell_type": "code",
   "execution_count": null,
   "metadata": {},
   "outputs": [],
   "source": []
  }
 ],
 "metadata": {
  "kernelspec": {
   "display_name": "Python 3",
   "language": "python",
   "name": "python3"
  },
  "language_info": {
   "codemirror_mode": {
    "name": "ipython",
    "version": 3
   },
   "file_extension": ".py",
   "mimetype": "text/x-python",
   "name": "python",
   "nbconvert_exporter": "python",
   "pygments_lexer": "ipython3",
   "version": "3.8.3"
  }
 },
 "nbformat": 4,
 "nbformat_minor": 4
}
